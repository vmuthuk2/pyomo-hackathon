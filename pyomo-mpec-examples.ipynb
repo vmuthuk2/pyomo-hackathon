{
 "cells": [
  {
   "cell_type": "code",
   "execution_count": 1,
   "metadata": {
    "collapsed": true
   },
   "outputs": [],
   "source": [
    "from pyomo import environ, mpec"
   ]
  },
  {
   "cell_type": "markdown",
   "metadata": {},
   "source": [
    "## Example:\n",
    "\n",
    "$$ \\min_{x, y} 2x - y $$\n",
    "\n",
    "subject to the following complementarity conditions\n",
    "\n",
    "\\begin{align}\n",
    "& 0 \\le y \\bot y \\ge x \\\\\n",
    "& x, y \\ge 0\n",
    "\\end{align}"
   ]
  },
  {
   "cell_type": "code",
   "execution_count": 33,
   "metadata": {},
   "outputs": [],
   "source": [
    "# create an instance of the ConcreteModel class\n",
    "model = environ.ConcreteModel()\n",
    "\n",
    "# add some variables that can only take values within the set of non-negative real numbers\n",
    "model.x = environ.Var(within=environ.NonNegativeReals)\n",
    "model.y = environ.Var(within=environ.NonNegativeReals)\n",
    "\n",
    "# define the objective function\n",
    "model.objective = environ.Objective(expr=2 * model.x - model.y)\n",
    "\n",
    "# define the complentarity condition\n",
    "model.complementarity = mpec.Complementarity(expr=mpec.complements(0 <= model.y, model.y >= model.x))"
   ]
  },
  {
   "cell_type": "code",
   "execution_count": 12,
   "metadata": {
    "collapsed": true
   },
   "outputs": [],
   "source": [
    "environ.SolverFactory??"
   ]
  },
  {
   "cell_type": "code",
   "execution_count": 31,
   "metadata": {},
   "outputs": [
    {
     "name": "stdout",
     "output_type": "stream",
     "text": [
      "WARNING: DEPRECATION WARNING: Model.transform() is deprecated.  Use\n",
      "\tTransformationFactory('mpec.simple_disjunction') to construct a transformation object, or\n",
      "\tTransformationFactory('mpec.simple_disjunction').apply_to(model) to directly apply the\n",
      "\ttransformation to the model instance.\n"
     ]
    }
   ],
   "source": [
    "with environ.SolverFactory(\"mpec_minlp:glpk\") as opt:\n",
    "    model.transform(\"mpec.simple_disjunction\")\n",
    "    results = opt.solve(model)"
   ]
  },
  {
   "cell_type": "code",
   "execution_count": 32,
   "metadata": {},
   "outputs": [
    {
     "data": {
      "text/plain": [
       "{'Problem': [{'Name': 'unknown', 'Lower bound': 0.0, 'Upper bound': 0.0, 'Number of objectives': 1, 'Number of constraints': 8, 'Number of variables': 5, 'Number of nonzeros': 16, 'Sense': 'minimize'}], 'Solver': [{'Name': None, 'Status': 'ok', 'Wallclock time': 0.07407140731811523, 'Termination condition': 'optimal', 'Statistics': {'Branch and bound': {'Number of bounded subproblems': '3', 'Number of created subproblems': '3'}}, 'Error rc': 0, 'Time': 0.042031288146972656}], 'Solution': [OrderedDict([('number of solutions', 0), ('number of solutions displayed', 0)])]}"
      ]
     },
     "execution_count": 32,
     "metadata": {},
     "output_type": "execute_result"
    }
   ],
   "source": [
    "results"
   ]
  },
  {
   "cell_type": "code",
   "execution_count": 27,
   "metadata": {},
   "outputs": [],
   "source": [
    "transformation = environ.TransformationFactory('mpec.simple_disjunction')"
   ]
  },
  {
   "cell_type": "code",
   "execution_count": 30,
   "metadata": {},
   "outputs": [],
   "source": [
    "transformation.apply_to??"
   ]
  },
  {
   "cell_type": "code",
   "execution_count": null,
   "metadata": {
    "collapsed": true
   },
   "outputs": [],
   "source": []
  }
 ],
 "metadata": {
  "kernelspec": {
   "display_name": "Python 3",
   "language": "python",
   "name": "python3"
  },
  "language_info": {
   "codemirror_mode": {
    "name": "ipython",
    "version": 3
   },
   "file_extension": ".py",
   "mimetype": "text/x-python",
   "name": "python",
   "nbconvert_exporter": "python",
   "pygments_lexer": "ipython3",
   "version": "3.6.3"
  }
 },
 "nbformat": 4,
 "nbformat_minor": 2
}
