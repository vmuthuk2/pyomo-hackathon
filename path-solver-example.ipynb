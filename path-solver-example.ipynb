{
 "cells": [
  {
   "cell_type": "code",
   "execution_count": 3,
   "metadata": {},
   "outputs": [
    {
     "name": "stdout",
     "output_type": "stream",
     "text": [
      "Writing munson1.py\n"
     ]
    }
   ],
   "source": [
    "%%writefile munson1.py\n",
    "\n",
    "from pyomo import environ, mpec\n",
    "\n",
    "\n",
    "model = environ.ConcreteModel()\n",
    "\n",
    "\n",
    "# define the model variables\n",
    "model.x1 = environ.Var()\n",
    "model.x2 = environ.Var()\n",
    "model.x3 = environ.Var()\n",
    "\n",
    "# define the complementarity conditions\n",
    "model.f1 = mpec.Complementarity(expr=mpec.complements(model.x1 >= 0, model.x1 + 2 * model.x2 + 3 * model.x3 >= 1))\n",
    "model.f2 = mpec.Complementarity(expr=mpec.complements(model.x2 >= 0, model.x2 - model.x3 >= -1))\n",
    "model.f3 = mpec.Complementarity(expr=mpec.complements(model.x3 >= 0, model.x1 + model.x2 >= -1))\n"
   ]
  },
  {
   "cell_type": "code",
   "execution_count": 4,
   "metadata": {},
   "outputs": [
    {
     "name": "stdout",
     "output_type": "stream",
     "text": [
      "usage: pyomo-script.py [-h] [--version]\n",
      "                       {check,convert,help,install-extras,run,solve,test-solvers}\n",
      "                       ...\n",
      "\n",
      "This is the main driver for the Pyomo optimization software.\n",
      "\n",
      "optional arguments:\n",
      "  -h, --help            show this help message and exit\n",
      "  --version             show program's version number and exit\n",
      "\n",
      "subcommands:\n",
      "  {check,convert,help,install-extras,run,solve,test-solvers}\n",
      "    check               Check a model for errors.\n",
      "    convert             Convert a Pyomo model to another format\n",
      "    help                Print help information.\n",
      "    install-extras      Install \"extra\" packages that Pyomo can leverage.\n",
      "    run                 Execute a command from the Pyomo bin (or Scripts)\n",
      "                        directory.\n",
      "    solve               Optimize a model\n",
      "    test-solvers        Test Pyomo solvers\n",
      "\n",
      "-------------------------------------------------------------------------\n",
      "Pyomo supports a variety of modeling and optimization capabilities,\n",
      "which are executed either as subcommands of 'pyomo' or as separate\n",
      "commands.  Use the 'help' subcommand to get information about the\n",
      "capabilities installed with Pyomo.  Additionally, each subcommand\n",
      "supports independent command-line options.  Use the -h option to\n",
      "print details for a subcommand.  For example, type\n",
      "\n",
      "   pyomo solve -h\n",
      "\n",
      "to print information about the `solve` subcommand.\n"
     ]
    }
   ],
   "source": [
    "!pyomo"
   ]
  },
  {
   "cell_type": "code",
   "execution_count": 5,
   "metadata": {},
   "outputs": [
    {
     "name": "stdout",
     "output_type": "stream",
     "text": [
      "[    0.00] Setting up Pyomo environment\n",
      "[    0.00] Applying Pyomo preprocessing actions\n",
      "[    0.01] Creating model\n",
      "[    0.01] Applying solver\n",
      "WARNING: \"[base]\\site-packages\\pyomo\\mpec\\plugins\\pathampl.py\", 48, _default_executable\n",
      "\tCould not locate the 'pathampl' executable, which is required for solver path\n",
      "[    0.01] Pyomo Finished\n",
      "ERROR: Unexpected exception while running model:\n",
      "\tNo executable found for solver 'path'\n"
     ]
    }
   ],
   "source": [
    "!pyomo solve --solver=path munson1.py"
   ]
  },
  {
   "cell_type": "code",
   "execution_count": null,
   "metadata": {
    "collapsed": true
   },
   "outputs": [],
   "source": []
  }
 ],
 "metadata": {
  "kernelspec": {
   "display_name": "Python 3",
   "language": "python",
   "name": "python3"
  },
  "language_info": {
   "codemirror_mode": {
    "name": "ipython",
    "version": 3
   },
   "file_extension": ".py",
   "mimetype": "text/x-python",
   "name": "python",
   "nbconvert_exporter": "python",
   "pygments_lexer": "ipython3",
   "version": "3.6.3"
  }
 },
 "nbformat": 4,
 "nbformat_minor": 2
}
